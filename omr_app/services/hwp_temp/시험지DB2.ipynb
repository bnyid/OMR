{
 "cells": [
  {
   "metadata": {},
   "cell_type": "markdown",
   "source": [
    "# 홍길동 학생이 문제를 풀었는데 33문제(3, 6, 9, ..., 99) 틀렸다.\n",
    "# 문장분석Drill에서 해당 번호의 해설만 모아서 표를 만들어 리턴하기"
   ],
   "id": "b7f695a81dcde06d"
  },
  {
   "metadata": {},
   "cell_type": "markdown",
   "source": "# 2. 필요한 부분만 복붙하는 방식",
   "id": "1fed399eaea1705b"
  },
  {
   "metadata": {
    "ExecuteTime": {
     "end_time": "2024-06-27T12:39:57.917627Z",
     "start_time": "2024-06-27T12:39:56.315593Z"
    }
   },
   "cell_type": "code",
   "source": [
    "from pyhwpx import Hwp\n",
    "\n",
    "hwp = Hwp()\n",
    "hwp.open(r\"문장DB_.hwpx\")\n",
    "\n",
    "hwp2 = Hwp(new=True)\n",
    "hwp2.open(\"오답노트.hwpx\")"
   ],
   "id": "59f57947cf2239a",
   "outputs": [
    {
     "data": {
      "text/plain": [
       "True"
      ]
     },
     "execution_count": 4,
     "metadata": {},
     "output_type": "execute_result"
    }
   ],
   "execution_count": 4
  },
  {
   "metadata": {},
   "cell_type": "code",
   "outputs": [],
   "execution_count": null,
   "source": [
    "# (선행작업) 모든 문항번호 셀에 셀필드 추가하기\n",
    "hwp.MoveToField(\"답안\")\n",
    "while hwp.TableLowerCell():\n",
    "    hwp.SetCurFieldName(hwp.get_selected_text(), option=1)  \n",
    "hwp.Cancel()"
   ],
   "id": "8ed4a428b33115e9"
  },
  {
   "metadata": {
    "ExecuteTime": {
     "end_time": "2024-06-27T15:24:10.105283Z",
     "start_time": "2024-06-27T15:24:10.102531Z"
    }
   },
   "cell_type": "code",
   "source": [
    "이름 = \"홍길동\"\n",
    "틀린문제리스트 = list(range(3, 100, 3))  # 3, 6, 9, ..., 99(33개)"
   ],
   "id": "17a4440528a5af2d",
   "outputs": [],
   "execution_count": 35
  },
  {
   "metadata": {
    "ExecuteTime": {
     "end_time": "2024-06-27T15:24:18.814761Z",
     "start_time": "2024-06-27T15:24:12.526067Z"
    }
   },
   "cell_type": "code",
   "source": [
    "# hwp 숨기기\n",
    "hwp.set_visible(False)\n",
    "hwp2.set_visible(False)\n",
    "\n",
    "# 캐럿 초기위치로~\n",
    "hwp.MoveToField(\"답안\")\n",
    "hwp2.MoveDocEnd()\n",
    "\n",
    "# 셀 복사/붙이기\n",
    "for i in 틀린문제리스트:\n",
    "    hwp.MoveToField(str(i))\n",
    "    hwp.TableCellBlock()\n",
    "    hwp.TableCellBlockExtend()\n",
    "    hwp.TableColEnd()\n",
    "    hwp.Copy()\n",
    "    hwp2.Paste()\n",
    "    hwp2.MoveDocEnd()\n",
    "\n",
    "# 오답노트 표 하나로 병합하기\n",
    "hwp2.MoveToField(\"답안\")\n",
    "while hwp2.TableMergeTable():\n",
    "    pass\n",
    "\n",
    "# 다른이름으로 저장\n",
    "hwp2.save_as(f\"오답노트_{이름}.hwpx\")\n",
    "\n",
    "# hwp 보이기. 끝.\n",
    "hwp.set_visible(True)\n",
    "hwp2.set_visible(True)"
   ],
   "id": "244eec433da9fa74",
   "outputs": [],
   "execution_count": 36
  }
 ],
 "metadata": {
  "kernelspec": {
   "display_name": "Python 3",
   "language": "python",
   "name": "python3"
  },
  "language_info": {
   "codemirror_mode": {
    "name": "ipython",
    "version": 2
   },
   "file_extension": ".py",
   "mimetype": "text/x-python",
   "name": "python",
   "nbconvert_exporter": "python",
   "pygments_lexer": "ipython2",
   "version": "2.7.6"
  }
 },
 "nbformat": 4,
 "nbformat_minor": 5
}
