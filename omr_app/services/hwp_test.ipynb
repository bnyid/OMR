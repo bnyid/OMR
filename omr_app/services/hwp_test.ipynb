{
 "cells": [
  {
   "cell_type": "code",
   "execution_count": 17,
   "metadata": {},
   "outputs": [],
   "source": [
    "from pyhwpx import Hwp"
   ]
  },
  {
   "cell_type": "code",
   "execution_count": 18,
   "metadata": {},
   "outputs": [],
   "source": [
    "hwp = Hwp()"
   ]
  },
  {
   "cell_type": "code",
   "execution_count": 22,
   "metadata": {},
   "outputs": [],
   "source": [
    "# 스타일 찾기 함수 지정\n",
    "def search_style(style_number):\n",
    "\thwp.HAction.GetDefault(\"Goto\", hwp.HParameterSet.HGotoE.HSet);\n",
    "\thwp.HParameterSet.HGotoE.HSet.SetItem(\"DialogResult\", style_number);\n",
    "\thwp.HParameterSet.HGotoE.SetSelectionIndex = 4;\n",
    "\thwp.HAction.Execute(\"Goto\", hwp.HParameterSet.HGotoE.HSet);"
   ]
  },
  {
   "cell_type": "code",
   "execution_count": 47,
   "metadata": {},
   "outputs": [],
   "source": [
    "# 블록 텍스트 추출\n",
    "def extract_text_from_block():  # 이 함수명을 영어로 바꾸면 = extract_text_from_block\n",
    "    hwp.InitScan(range=0xff)  # 0xff <<선택된 범위 내에서 검색\n",
    "    _, text_blokced = hwp.GetText()  # 텍스트만 추출\n",
    "    hwp.ReleaseScan() # 스캔을 해제.\n",
    "    return text_blokced # 이경우, 해당 target이 text에 포함되어있으면 True, 아니면 False를 반환."
   ]
  },
  {
   "cell_type": "code",
   "execution_count": 277,
   "metadata": {},
   "outputs": [],
   "source": [
    "def search_text(text,direction=\"Forward\"):\n",
    "    \"\"\"\n",
    "    특정 텍스트를 찾아서 블록 처리\n",
    "    Args:\n",
    "        text (str): 찾을 텍스트\n",
    "        direction (optional): 찾기 방향(Forward, Backward, AllDoc)\n",
    "    \"\"\"\n",
    "    \n",
    "    hwp.HAction.GetDefault(\"RepeatFind\", hwp.HParameterSet.HFindReplace.HSet)\n",
    "    hwp.HParameterSet.HFindReplace.FindString = f\"{text}\"\n",
    "    hwp.HParameterSet.HFindReplace.Direction = hwp.FindDir(f\"{direction}\")\n",
    "    hwp.HParameterSet.HFindReplace.FindType = 1  \n",
    "    hwp.HParameterSet.HFindReplace.UseWildCards = 1\n",
    "    hwp.HParameterSet.HFindReplace.IgnoreMessage = 2  # 계속 찾을까요? 1=YES, 2=NO\n",
    "    hwp.HAction.Execute(\"RepeatFind\", hwp.HParameterSet.HFindReplace.HSet)\n",
    "    \n",
    "    \n",
    "    \n",
    "def search_text_condition(text): \n",
    "    \"\"\"조건식사용에 체크하고 텍스트 검색\n",
    "\n",
    "\tArgs:\n",
    "\t\ttext (_type_): _description_\n",
    "\t\"\"\"\n",
    "    hwp.SetMessageBoxMode(0x00020000) # 계속 찾으시겠습니까? 아니오\n",
    "    hwp.HAction.GetDefault(\"RepeatFind\", hwp.HParameterSet.HFindReplace.HSet)\n",
    "    hwp.HParameterSet.HFindReplace.FindString = f\"{text}\"\n",
    "    hwp.HParameterSet.HFindReplace.Direction = hwp.FindDir(\"Forward\")\n",
    "    hwp.HParameterSet.HFindReplace.FindType = 1\n",
    "    hwp.HParameterSet.HFindReplace.FindRegExp = 1 \n",
    "    hwp.HParameterSet.HFindReplace.IgnoreMessage = 2\n",
    "    if hwp.HAction.Execute(\"RepeatFind\", hwp.HParameterSet.HFindReplace.HSet):\n",
    "        hwp.SetMessageBoxMode(0x000F0000) # 기본값으로 돌리기기\n",
    "        return True\n",
    "    else:\n",
    "        hwp.SetMessageBoxMode(0x000F0000) # 기본값으로 돌리기기\n",
    "        return False\n"
   ]
  },
  {
   "cell_type": "code",
   "execution_count": 20,
   "metadata": {},
   "outputs": [],
   "source": [
    "###### 문항 채점 과정\n",
    "# (1) 객관식 문단번호 스타일을 찾아가 원문 출처, 총 문항 수, 배점, 정답 번호를 구하고 문항 번호를 부여한다.\n",
    "# (2) 주관식 문단번호 스타일을 찾아 발문, 배점을 구하고 발문 좌표 저장\n",
    "# (3) 발문에서 GetHEadString()으로 논술형 번호 추출 -> 문서 끝으로 이동한 뒤 논술형 번호로 \"위로 찾기\"\n",
    "# (4) 논술형 정답을 추출하고 다시 발문 좌표로 이동"
   ]
  },
  {
   "cell_type": "code",
   "execution_count": 149,
   "metadata": {},
   "outputs": [],
   "source": [
    "def extract_number_from_text(text):\n",
    "    \"\"\"\n",
    "    텍스트에서 숫자(정수 또는 소수)를 추출하는 함수\n",
    "    \n",
    "    Args:\n",
    "        text (str): 숫자가 포함된 텍스트\n",
    "        \n",
    "    Returns:\n",
    "        float: 추출된 숫자. 숫자가 없으면 None 반환\n",
    "    \"\"\"\n",
    "    import re\n",
    "    \n",
    "    number_match = re.search(r'(\\d+\\.?\\d*)', text)\n",
    "    if number_match:\n",
    "        return float(number_match.group(1))\n",
    "    return None"
   ]
  },
  {
   "cell_type": "code",
   "execution_count": 190,
   "metadata": {},
   "outputs": [],
   "source": [
    "def convert_circled_number(text):\n",
    "    \"\"\"\n",
    "    다양한 원문자를 일반 숫자로 변환하는 함수\n",
    "    \n",
    "    Args:\n",
    "        text (str): 원문자가 포함된 텍스트\n",
    "        \n",
    "    Returns:\n",
    "        int: 변환된 숫자\n",
    "    \"\"\"\n",
    "    # 다양한 원문자 매핑\n",
    "    circled_num_map = {\n",
    "        '①': 1, '❶': 1, '➀': 1,  # 1에 해당하는 다양한 원문자\n",
    "        '②': 2, '❷': 2, '➁': 2,  # 2에 해당하는 다양한 원문자\n",
    "        '③': 3, '❸': 3, '➂': 3,  # 3에 해당하는 다양한 원문자\n",
    "        '④': 4, '❹': 4, '➃': 4,  # 4에 해당하는 다양한 원문자\n",
    "        '⑤': 5, '❺': 5, '➄': 5,  # 5에 해당하는 다양한 원문자\n",
    "        # 필요한 만큼 추가\n",
    "    }\n",
    "    \n",
    "    # 입력된 텍스트에서 원문자를 찾아 변환\n",
    "    for circle_num, num in circled_num_map.items():\n",
    "        if circle_num in text:\n",
    "            return num\n",
    "    \n",
    "    return None"
   ]
  },
  {
   "cell_type": "code",
   "execution_count": 182,
   "metadata": {},
   "outputs": [],
   "source": [
    "# 미주 진입\n",
    "def enter_note():\n",
    "    hwp.Run(\"MoveParaBegin\")\n",
    "    hwp.SelectCtrlFront()\n",
    "    hwp.Run(\"MoveRight\")\n",
    "    hwp.FindCtrl()\n",
    "    hwp.HAction.Run(\"NoteModify\")\n"
   ]
  },
  {
   "cell_type": "code",
   "execution_count": 285,
   "metadata": {},
   "outputs": [
    {
     "data": {
      "text/plain": [
       "True"
      ]
     },
     "execution_count": 285,
     "metadata": {},
     "output_type": "execute_result"
    }
   ],
   "source": [
    "#if __name__ == \"__main__\":\n",
    "\n",
    "# 한글 실행\n",
    "from pyhwpx import Hwp\n",
    "hwp = Hwp()\n",
    "hwp.Run(\"MoveDocBegin\")"
   ]
  },
  {
   "cell_type": "code",
   "execution_count": 210,
   "metadata": {},
   "outputs": [],
   "source": [
    "유형_식별자_리스트 = [\"객관식\", \"주관식\", \"논술형\"]"
   ]
  },
  {
   "cell_type": "code",
   "execution_count": 286,
   "metadata": {},
   "outputs": [
    {
     "data": {
      "text/plain": [
       "True"
      ]
     },
     "execution_count": 286,
     "metadata": {},
     "output_type": "execute_result"
    }
   ],
   "source": [
    "# 객관식 문단번호 찾아서 블록 처리\n",
    "search_style(2)\n",
    "hwp.Run(\"MoveSelParaEnd\")"
   ]
  },
  {
   "cell_type": "code",
   "execution_count": 287,
   "metadata": {},
   "outputs": [
    {
     "name": "stdout",
     "output_type": "stream",
     "text": [
      "다음 글의 내용과 일치하지 않는 것은?\n"
     ]
    }
   ],
   "source": [
    "# 발문 저장\n",
    "block_text = extract_text_from_block()\n",
    "print(block_text)\n",
    "print(\"발문추출완료\")"
   ]
  },
  {
   "cell_type": "code",
   "execution_count": 288,
   "metadata": {},
   "outputs": [],
   "source": [
    "enter_note()"
   ]
  },
  {
   "cell_type": "code",
   "execution_count": 289,
   "metadata": {},
   "outputs": [
    {
     "name": "stdout",
     "output_type": "stream",
     "text": [
      "3\n"
     ]
    }
   ],
   "source": [
    "#정답 추출\n",
    "search_text(\"*\")\n",
    "answer_circled = extract_text_from_block()\n",
    "answer_num = convert_circled_number(answer_circled)\n",
    "print(answer_num)"
   ]
  },
  {
   "cell_type": "code",
   "execution_count": 290,
   "metadata": {},
   "outputs": [
    {
     "name": "stdout",
     "output_type": "stream",
     "text": [
      "\n",
      "\n"
     ]
    }
   ],
   "source": [
    "# 해설 블록 설정\n",
    "hwp.Run(\"MoveParaEnd\")\n",
    "for i in range(30):\n",
    "    hwp.Run(\"MoveSelNextParaBegin\")\n",
    "# 해설 추출\n",
    "explanation_text = extract_text_from_block()\n",
    "print(f\"해설 추출 완료\")    "
   ]
  },
  {
   "cell_type": "code",
   "execution_count": 291,
   "metadata": {},
   "outputs": [
    {
     "data": {
      "text/plain": [
       "True"
      ]
     },
     "execution_count": 291,
     "metadata": {},
     "output_type": "execute_result"
    }
   ],
   "source": [
    "# 미주 종료\n",
    "hwp.Run(\"CloseEx\")\n",
    "#점수 추출\n"
   ]
  },
  {
   "cell_type": "code",
   "execution_count": 292,
   "metadata": {},
   "outputs": [
    {
     "data": {
      "text/plain": [
       "True"
      ]
     },
     "execution_count": 292,
     "metadata": {},
     "output_type": "execute_result"
    }
   ],
   "source": [
    "#발문 행 블럭\n",
    "hwp.Run(\"MoveParaBegin\")\n",
    "hwp.Run(\"MoveSelParaEnd\")"
   ]
  },
  {
   "cell_type": "code",
   "execution_count": 293,
   "metadata": {},
   "outputs": [
    {
     "name": "stdout",
     "output_type": "stream",
     "text": [
      "3.8\n"
     ]
    }
   ],
   "source": [
    "# 발문 행 블럭 -> 배점 추출\n",
    "search_text_condition(r\"{\\d점}|{\\d\\.\\d점}\")\n",
    "score_text = extract_text_from_block()\n",
    "score = extract_number_from_text(score_text)\n",
    "hwp.Run(\"Cancel\")\n",
    "print(\"배점추출완료\")"
   ]
  },
  {
   "cell_type": "code",
   "execution_count": 298,
   "metadata": {},
   "outputs": [],
   "source": [
    "from pyhwpx import Hwp\n",
    "hwp = Hwp()\n"
   ]
  },
  {
   "cell_type": "code",
   "execution_count": 302,
   "metadata": {},
   "outputs": [],
   "source": []
  },
  {
   "cell_type": "code",
   "execution_count": 301,
   "metadata": {},
   "outputs": [],
   "source": [
    "for i in range(30):\n",
    "        hwp.Run(\"MoveSelNextParaBegin\")    "
   ]
  }
 ],
 "metadata": {
  "kernelspec": {
   "display_name": "omr",
   "language": "python",
   "name": "python3"
  },
  "language_info": {
   "codemirror_mode": {
    "name": "ipython",
    "version": 3
   },
   "file_extension": ".py",
   "mimetype": "text/x-python",
   "name": "python",
   "nbconvert_exporter": "python",
   "pygments_lexer": "ipython3",
   "version": "3.11.10"
  }
 },
 "nbformat": 4,
 "nbformat_minor": 2
}
